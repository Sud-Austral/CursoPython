{
 "cells": [
  {
   "cell_type": "markdown",
   "metadata": {},
   "source": [
    "# Curso de Automating Your Data Clean Up facilitado por Clent\n",
    "\n",
    "\n",
    "<a href=\"http://www.youtube.com/watch?feature=player_embedded&v=XSErbOcFwgQ\n",
    "\" target=\"_blank\"><img src=\"http://img.youtube.com/vi/XSErbOcFwgQ/0.jpg\" \n",
    "alt=\"IMAGE ALT TEXT HERE\" width=\"480\" height=\"360\" border=\"10\" /></a>"
   ]
  },
  {
   "cell_type": "code",
   "execution_count": 2,
   "metadata": {},
   "outputs": [],
   "source": [
    "import pandas as pd\n",
    "import numpy as np\n",
    "import os"
   ]
  },
  {
   "cell_type": "code",
   "execution_count": 5,
   "metadata": {},
   "outputs": [
    {
     "name": "stderr",
     "output_type": "stream",
     "text": [
      "C:\\ProgramData\\Anaconda3\\lib\\site-packages\\statsmodels\\tools\\_testing.py:19: FutureWarning: pandas.util.testing is deprecated. Use the functions in the public API at pandas.testing instead.\n",
      "  import pandas.util.testing as tm\n"
     ]
    }
   ],
   "source": [
    "import pandas_profiling"
   ]
  },
  {
   "cell_type": "code",
   "execution_count": 6,
   "metadata": {},
   "outputs": [
    {
     "data": {
      "text/html": [
       "<div>\n",
       "<style scoped>\n",
       "    .dataframe tbody tr th:only-of-type {\n",
       "        vertical-align: middle;\n",
       "    }\n",
       "\n",
       "    .dataframe tbody tr th {\n",
       "        vertical-align: top;\n",
       "    }\n",
       "\n",
       "    .dataframe thead th {\n",
       "        text-align: right;\n",
       "    }\n",
       "</style>\n",
       "<table border=\"1\" class=\"dataframe\">\n",
       "  <thead>\n",
       "    <tr style=\"text-align: right;\">\n",
       "      <th></th>\n",
       "      <th>Contenido</th>\n",
       "      <th>IR</th>\n",
       "      <th>Fecha</th>\n",
       "      <th>Dispositivo</th>\n",
       "      <th>Likes</th>\n",
       "      <th>Retweets</th>\n",
       "      <th>Entidad</th>\n",
       "      <th>Hora</th>\n",
       "      <th>Foto</th>\n",
       "    </tr>\n",
       "  </thead>\n",
       "  <tbody>\n",
       "    <tr>\n",
       "      <th>0</th>\n",
       "      <td>El Sistema Nacional de Gestión de Riesgos (SIN...</td>\n",
       "      <td>https://twitter.com/i/web/status/1260745518042...</td>\n",
       "      <td>13/05/2020 19:35:29</td>\n",
       "      <td>Twitter for iPhone</td>\n",
       "      <td>29</td>\n",
       "      <td>18</td>\n",
       "      <td>Secretaría de Salud</td>\n",
       "      <td>19:35:29</td>\n",
       "      <td>http://pbs.twimg.com/profile_images/1234489680...</td>\n",
       "    </tr>\n",
       "    <tr>\n",
       "      <th>1</th>\n",
       "      <td>1/4 COMUNICADO No.67 del Sistema Nacional de G...</td>\n",
       "      <td>https://twitter.com/i/web/status/1260752569556...</td>\n",
       "      <td>13/05/2020 20:03:30</td>\n",
       "      <td>Twitter for iPhone</td>\n",
       "      <td>26</td>\n",
       "      <td>13</td>\n",
       "      <td>Secretaría de Salud</td>\n",
       "      <td>20:03:30</td>\n",
       "      <td>http://pbs.twimg.com/profile_images/1234489680...</td>\n",
       "    </tr>\n",
       "    <tr>\n",
       "      <th>2</th>\n",
       "      <td>2/4 COMUNICADO No.67 del Sistema Nacional de G...</td>\n",
       "      <td>https://twitter.com/i/web/status/1260752579300...</td>\n",
       "      <td>13/05/2020 20:03:33</td>\n",
       "      <td>Twitter for iPhone</td>\n",
       "      <td>9</td>\n",
       "      <td>7</td>\n",
       "      <td>Secretaría de Salud</td>\n",
       "      <td>20:03:33</td>\n",
       "      <td>http://pbs.twimg.com/profile_images/1234489680...</td>\n",
       "    </tr>\n",
       "    <tr>\n",
       "      <th>3</th>\n",
       "      <td>3/4 COMUNICADO No.67 del Sistema Nacional de G...</td>\n",
       "      <td>https://twitter.com/i/web/status/1260752588779...</td>\n",
       "      <td>13/05/2020 20:03:35</td>\n",
       "      <td>Twitter for iPhone</td>\n",
       "      <td>8</td>\n",
       "      <td>5</td>\n",
       "      <td>Secretaría de Salud</td>\n",
       "      <td>20:03:35</td>\n",
       "      <td>http://pbs.twimg.com/profile_images/1234489680...</td>\n",
       "    </tr>\n",
       "    <tr>\n",
       "      <th>4</th>\n",
       "      <td>4/4 COMUNICADO No.67 del Sistema Nacional de G...</td>\n",
       "      <td>https://twitter.com/i/web/status/1260752597910...</td>\n",
       "      <td>13/05/2020 20:03:37</td>\n",
       "      <td>Twitter for iPhone</td>\n",
       "      <td>7</td>\n",
       "      <td>5</td>\n",
       "      <td>Secretaría de Salud</td>\n",
       "      <td>20:03:37</td>\n",
       "      <td>http://pbs.twimg.com/profile_images/1234489680...</td>\n",
       "    </tr>\n",
       "  </tbody>\n",
       "</table>\n",
       "</div>"
      ],
      "text/plain": [
       "                                           Contenido  \\\n",
       "0  El Sistema Nacional de Gestión de Riesgos (SIN...   \n",
       "1  1/4 COMUNICADO No.67 del Sistema Nacional de G...   \n",
       "2  2/4 COMUNICADO No.67 del Sistema Nacional de G...   \n",
       "3  3/4 COMUNICADO No.67 del Sistema Nacional de G...   \n",
       "4  4/4 COMUNICADO No.67 del Sistema Nacional de G...   \n",
       "\n",
       "                                                  IR                Fecha  \\\n",
       "0  https://twitter.com/i/web/status/1260745518042...  13/05/2020 19:35:29   \n",
       "1  https://twitter.com/i/web/status/1260752569556...  13/05/2020 20:03:30   \n",
       "2  https://twitter.com/i/web/status/1260752579300...  13/05/2020 20:03:33   \n",
       "3  https://twitter.com/i/web/status/1260752588779...  13/05/2020 20:03:35   \n",
       "4  https://twitter.com/i/web/status/1260752597910...  13/05/2020 20:03:37   \n",
       "\n",
       "          Dispositivo  Likes  Retweets              Entidad      Hora  \\\n",
       "0  Twitter for iPhone     29        18  Secretaría de Salud  19:35:29   \n",
       "1  Twitter for iPhone     26        13  Secretaría de Salud  20:03:30   \n",
       "2  Twitter for iPhone      9         7  Secretaría de Salud  20:03:33   \n",
       "3  Twitter for iPhone      8         5  Secretaría de Salud  20:03:35   \n",
       "4  Twitter for iPhone      7         5  Secretaría de Salud  20:03:37   \n",
       "\n",
       "                                                Foto  \n",
       "0  http://pbs.twimg.com/profile_images/1234489680...  \n",
       "1  http://pbs.twimg.com/profile_images/1234489680...  \n",
       "2  http://pbs.twimg.com/profile_images/1234489680...  \n",
       "3  http://pbs.twimg.com/profile_images/1234489680...  \n",
       "4  http://pbs.twimg.com/profile_images/1234489680...  "
      ]
     },
     "execution_count": 6,
     "metadata": {},
     "output_type": "execute_result"
    }
   ],
   "source": [
    "df = pd.read_csv(\"https://raw.githubusercontent.com/Sud-Austral/Datos_Honduras/master/tweeter/tweeter.csv\")\n",
    "df.head()"
   ]
  },
  {
   "cell_type": "code",
   "execution_count": 8,
   "metadata": {},
   "outputs": [],
   "source": [
    "ola = pandas_profiling.ProfileReport(df)"
   ]
  },
  {
   "cell_type": "code",
   "execution_count": 13,
   "metadata": {},
   "outputs": [
    {
     "data": {
      "text/plain": [
       "pandas_profiling.profile_report.ProfileReport"
      ]
     },
     "execution_count": 13,
     "metadata": {},
     "output_type": "execute_result"
    }
   ],
   "source": [
    "type(ola)"
   ]
  },
  {
   "cell_type": "code",
   "execution_count": 20,
   "metadata": {},
   "outputs": [
    {
     "data": {
      "application/vnd.jupyter.widget-view+json": {
       "model_id": "d330f899a39b477a8dc51c1e22fe0a03",
       "version_major": 2,
       "version_minor": 0
      },
      "text/plain": [
       "VBox(children=(Tab(children=(Tab(children=(GridBox(children=(VBox(children=(GridspecLayout(children=(HTML(valu…"
      ]
     },
     "metadata": {},
     "output_type": "display_data"
    }
   ],
   "source": [
    "wid = ola.to_widgets()"
   ]
  },
  {
   "cell_type": "code",
   "execution_count": 21,
   "metadata": {},
   "outputs": [
    {
     "data": {
      "text/plain": [
       "NoneType"
      ]
     },
     "execution_count": 21,
     "metadata": {},
     "output_type": "execute_result"
    }
   ],
   "source": [
    "type(wid)"
   ]
  },
  {
   "cell_type": "code",
   "execution_count": null,
   "metadata": {},
   "outputs": [],
   "source": []
  }
 ],
 "metadata": {
  "kernelspec": {
   "display_name": "Python 3",
   "language": "python",
   "name": "python3"
  },
  "language_info": {
   "codemirror_mode": {
    "name": "ipython",
    "version": 3
   },
   "file_extension": ".py",
   "mimetype": "text/x-python",
   "name": "python",
   "nbconvert_exporter": "python",
   "pygments_lexer": "ipython3",
   "version": "3.7.4"
  }
 },
 "nbformat": 4,
 "nbformat_minor": 2
}
