{
 "cells": [
  {
   "cell_type": "markdown",
   "metadata": {},
   "source": [
    "# El metodo de k-means"
   ]
  },
  {
   "cell_type": "code",
   "execution_count": 1,
   "metadata": {},
   "outputs": [],
   "source": [
    "import numpy as np"
   ]
  },
  {
   "cell_type": "code",
   "execution_count": 2,
   "metadata": {},
   "outputs": [
    {
     "data": {
      "text/plain": [
       "array([[0.72140593, 0.80511183, 0.77119953],\n",
       "       [0.11373819, 0.141232  , 0.802686  ],\n",
       "       [0.2789165 , 0.48888821, 0.31404653],\n",
       "       [0.60426396, 0.08924538, 0.59332953],\n",
       "       [0.15859932, 0.37766285, 0.13472831],\n",
       "       [0.93196198, 0.2129298 , 0.88470126],\n",
       "       [0.01490132, 0.06070464, 0.33783381],\n",
       "       [0.66321432, 0.71338107, 0.19634025],\n",
       "       [0.6401518 , 0.95924623, 0.27224823],\n",
       "       [0.69409014, 0.32711995, 0.00587086],\n",
       "       [0.7617945 , 0.46747985, 0.2582601 ],\n",
       "       [0.50995935, 0.03670555, 0.61797197],\n",
       "       [0.8302633 , 0.9371693 , 0.62438989],\n",
       "       [0.27987261, 0.73345135, 0.91729155],\n",
       "       [0.58731131, 0.64739877, 0.11514224],\n",
       "       [0.87154624, 0.52729372, 0.74368945],\n",
       "       [0.95886058, 0.9077638 , 0.44133161],\n",
       "       [0.11944656, 0.63842209, 0.3397593 ],\n",
       "       [0.30632481, 0.15597643, 0.23175289],\n",
       "       [0.74392881, 0.99300716, 0.81204788],\n",
       "       [0.28969774, 0.77085951, 0.58876421],\n",
       "       [0.82695372, 0.17949682, 0.49983894],\n",
       "       [0.71274636, 0.37838458, 0.53015465],\n",
       "       [0.41813125, 0.74159842, 0.45561117],\n",
       "       [0.43833459, 0.77585099, 0.99053994],\n",
       "       [0.62198024, 0.72728636, 0.26061918],\n",
       "       [0.72003639, 0.18877927, 0.22990947],\n",
       "       [0.42197439, 0.72328686, 0.79396902],\n",
       "       [0.25154295, 0.33006932, 0.08670012],\n",
       "       [0.44905038, 0.49100575, 0.8205836 ]])"
      ]
     },
     "execution_count": 2,
     "metadata": {},
     "output_type": "execute_result"
    }
   ],
   "source": [
    "data = np.random.random(90).reshape(30,3)\n",
    "data"
   ]
  },
  {
   "cell_type": "code",
   "execution_count": 4,
   "metadata": {},
   "outputs": [],
   "source": [
    "c1 = np.random.choice(range(len(data)))\n",
    "c2 = np.random.choice(range(len(data)))\n",
    "cluster_centers = np.vstack([data[c1], data[c2]])"
   ]
  },
  {
   "cell_type": "code",
   "execution_count": 5,
   "metadata": {},
   "outputs": [
    {
     "data": {
      "text/plain": [
       "array([[0.82695372, 0.17949682, 0.49983894],\n",
       "       [0.01490132, 0.06070464, 0.33783381]])"
      ]
     },
     "execution_count": 5,
     "metadata": {},
     "output_type": "execute_result"
    }
   ],
   "source": [
    "cluster_centers"
   ]
  },
  {
   "cell_type": "code",
   "execution_count": 6,
   "metadata": {},
   "outputs": [],
   "source": [
    "from scipy.cluster.vq import vq"
   ]
  },
  {
   "cell_type": "code",
   "execution_count": 8,
   "metadata": {},
   "outputs": [
    {
     "data": {
      "text/plain": [
       "(array([0, 1, 1, 0, 1, 0, 1, 0, 0, 0, 0, 0, 0, 0, 0, 0, 0, 1, 1, 0, 1, 0,\n",
       "        0, 0, 0, 0, 0, 0, 1, 0]),\n",
       " array([0.69005147, 0.48201757, 0.50359807, 0.25783045, 0.4029435 ,\n",
       "        0.40032924, 0.        , 0.63557409, 0.83348762, 0.53240002,\n",
       "        0.38149742, 0.36719231, 0.7678486 , 0.88341951, 0.65142326,\n",
       "        0.42709981, 0.74242529, 0.58710379, 0.32443416, 0.87530944,\n",
       "        0.80174751, 0.        , 0.2313411 , 0.69645539, 0.86455225,\n",
       "        0.63191265, 0.29048133, 0.73907264, 0.43774961, 0.58542795]))"
      ]
     },
     "execution_count": 8,
     "metadata": {},
     "output_type": "execute_result"
    }
   ],
   "source": [
    "vq(data, cluster_centers)"
   ]
  },
  {
   "cell_type": "code",
   "execution_count": 9,
   "metadata": {},
   "outputs": [],
   "source": [
    "from scipy.cluster.vq import kmeans"
   ]
  },
  {
   "cell_type": "code",
   "execution_count": 11,
   "metadata": {},
   "outputs": [
    {
     "data": {
      "text/plain": [
       "(array([[0.63012368, 0.69513919, 0.5820491 ],\n",
       "        [0.3832311 , 0.25119188, 0.34953564]]),\n",
       " 0.38065394163918564)"
      ]
     },
     "execution_count": 11,
     "metadata": {},
     "output_type": "execute_result"
    }
   ],
   "source": [
    "kmeans(data, cluster_centers)"
   ]
  },
  {
   "cell_type": "code",
   "execution_count": 12,
   "metadata": {},
   "outputs": [
    {
     "data": {
      "text/plain": [
       "(array([[0.46740117, 0.34989607, 0.32676142],\n",
       "        [0.61501382, 0.73681344, 0.70125903]]),\n",
       " 0.37551794753987644)"
      ]
     },
     "execution_count": 12,
     "metadata": {},
     "output_type": "execute_result"
    }
   ],
   "source": [
    "kmeans(data, 2)"
   ]
  },
  {
   "cell_type": "code",
   "execution_count": null,
   "metadata": {},
   "outputs": [],
   "source": []
  }
 ],
 "metadata": {
  "kernelspec": {
   "display_name": "Python 3",
   "language": "python",
   "name": "python3"
  },
  "language_info": {
   "codemirror_mode": {
    "name": "ipython",
    "version": 3
   },
   "file_extension": ".py",
   "mimetype": "text/x-python",
   "name": "python",
   "nbconvert_exporter": "python",
   "pygments_lexer": "ipython3",
   "version": "3.7.4"
  }
 },
 "nbformat": 4,
 "nbformat_minor": 4
}
