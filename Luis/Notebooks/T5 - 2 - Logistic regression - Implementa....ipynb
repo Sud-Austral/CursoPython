{
 "cells": [
  {
   "cell_type": "markdown",
   "metadata": {},
   "source": [
    "# Regresion logistica para predicciones bancarias"
   ]
  },
  {
   "cell_type": "code",
   "execution_count": 1,
   "metadata": {},
   "outputs": [],
   "source": [
    "import pandas as pd\n",
    "import numpy as np\n",
    "import matplotlib.pyplot as plt"
   ]
  },
  {
   "cell_type": "code",
   "execution_count": 2,
   "metadata": {},
   "outputs": [],
   "source": [
    "data = pd.read_csv(\"../datasets/bank/bank.csv\", sep=\";\")"
   ]
  },
  {
   "cell_type": "code",
   "execution_count": 3,
   "metadata": {},
   "outputs": [
    {
     "data": {
      "text/html": [
       "<div>\n",
       "<style scoped>\n",
       "    .dataframe tbody tr th:only-of-type {\n",
       "        vertical-align: middle;\n",
       "    }\n",
       "\n",
       "    .dataframe tbody tr th {\n",
       "        vertical-align: top;\n",
       "    }\n",
       "\n",
       "    .dataframe thead th {\n",
       "        text-align: right;\n",
       "    }\n",
       "</style>\n",
       "<table border=\"1\" class=\"dataframe\">\n",
       "  <thead>\n",
       "    <tr style=\"text-align: right;\">\n",
       "      <th></th>\n",
       "      <th>age</th>\n",
       "      <th>job</th>\n",
       "      <th>marital</th>\n",
       "      <th>education</th>\n",
       "      <th>default</th>\n",
       "      <th>housing</th>\n",
       "      <th>loan</th>\n",
       "      <th>contact</th>\n",
       "      <th>month</th>\n",
       "      <th>day_of_week</th>\n",
       "      <th>...</th>\n",
       "      <th>campaign</th>\n",
       "      <th>pdays</th>\n",
       "      <th>previous</th>\n",
       "      <th>poutcome</th>\n",
       "      <th>emp.var.rate</th>\n",
       "      <th>cons.price.idx</th>\n",
       "      <th>cons.conf.idx</th>\n",
       "      <th>euribor3m</th>\n",
       "      <th>nr.employed</th>\n",
       "      <th>y</th>\n",
       "    </tr>\n",
       "  </thead>\n",
       "  <tbody>\n",
       "    <tr>\n",
       "      <th>0</th>\n",
       "      <td>30</td>\n",
       "      <td>blue-collar</td>\n",
       "      <td>married</td>\n",
       "      <td>basic.9y</td>\n",
       "      <td>no</td>\n",
       "      <td>yes</td>\n",
       "      <td>no</td>\n",
       "      <td>cellular</td>\n",
       "      <td>may</td>\n",
       "      <td>fri</td>\n",
       "      <td>...</td>\n",
       "      <td>2</td>\n",
       "      <td>999</td>\n",
       "      <td>0</td>\n",
       "      <td>nonexistent</td>\n",
       "      <td>-1.8</td>\n",
       "      <td>92.893</td>\n",
       "      <td>-46.2</td>\n",
       "      <td>1.313</td>\n",
       "      <td>5099.1</td>\n",
       "      <td>no</td>\n",
       "    </tr>\n",
       "    <tr>\n",
       "      <th>1</th>\n",
       "      <td>39</td>\n",
       "      <td>services</td>\n",
       "      <td>single</td>\n",
       "      <td>high.school</td>\n",
       "      <td>no</td>\n",
       "      <td>no</td>\n",
       "      <td>no</td>\n",
       "      <td>telephone</td>\n",
       "      <td>may</td>\n",
       "      <td>fri</td>\n",
       "      <td>...</td>\n",
       "      <td>4</td>\n",
       "      <td>999</td>\n",
       "      <td>0</td>\n",
       "      <td>nonexistent</td>\n",
       "      <td>1.1</td>\n",
       "      <td>93.994</td>\n",
       "      <td>-36.4</td>\n",
       "      <td>4.855</td>\n",
       "      <td>5191.0</td>\n",
       "      <td>no</td>\n",
       "    </tr>\n",
       "    <tr>\n",
       "      <th>2</th>\n",
       "      <td>25</td>\n",
       "      <td>services</td>\n",
       "      <td>married</td>\n",
       "      <td>high.school</td>\n",
       "      <td>no</td>\n",
       "      <td>yes</td>\n",
       "      <td>no</td>\n",
       "      <td>telephone</td>\n",
       "      <td>jun</td>\n",
       "      <td>wed</td>\n",
       "      <td>...</td>\n",
       "      <td>1</td>\n",
       "      <td>999</td>\n",
       "      <td>0</td>\n",
       "      <td>nonexistent</td>\n",
       "      <td>1.4</td>\n",
       "      <td>94.465</td>\n",
       "      <td>-41.8</td>\n",
       "      <td>4.962</td>\n",
       "      <td>5228.1</td>\n",
       "      <td>no</td>\n",
       "    </tr>\n",
       "    <tr>\n",
       "      <th>3</th>\n",
       "      <td>38</td>\n",
       "      <td>services</td>\n",
       "      <td>married</td>\n",
       "      <td>basic.9y</td>\n",
       "      <td>no</td>\n",
       "      <td>unknown</td>\n",
       "      <td>unknown</td>\n",
       "      <td>telephone</td>\n",
       "      <td>jun</td>\n",
       "      <td>fri</td>\n",
       "      <td>...</td>\n",
       "      <td>3</td>\n",
       "      <td>999</td>\n",
       "      <td>0</td>\n",
       "      <td>nonexistent</td>\n",
       "      <td>1.4</td>\n",
       "      <td>94.465</td>\n",
       "      <td>-41.8</td>\n",
       "      <td>4.959</td>\n",
       "      <td>5228.1</td>\n",
       "      <td>no</td>\n",
       "    </tr>\n",
       "    <tr>\n",
       "      <th>4</th>\n",
       "      <td>47</td>\n",
       "      <td>admin.</td>\n",
       "      <td>married</td>\n",
       "      <td>university.degree</td>\n",
       "      <td>no</td>\n",
       "      <td>yes</td>\n",
       "      <td>no</td>\n",
       "      <td>cellular</td>\n",
       "      <td>nov</td>\n",
       "      <td>mon</td>\n",
       "      <td>...</td>\n",
       "      <td>1</td>\n",
       "      <td>999</td>\n",
       "      <td>0</td>\n",
       "      <td>nonexistent</td>\n",
       "      <td>-0.1</td>\n",
       "      <td>93.200</td>\n",
       "      <td>-42.0</td>\n",
       "      <td>4.191</td>\n",
       "      <td>5195.8</td>\n",
       "      <td>no</td>\n",
       "    </tr>\n",
       "  </tbody>\n",
       "</table>\n",
       "<p>5 rows × 21 columns</p>\n",
       "</div>"
      ],
      "text/plain": [
       "   age          job  marital          education default  housing     loan  \\\n",
       "0   30  blue-collar  married           basic.9y      no      yes       no   \n",
       "1   39     services   single        high.school      no       no       no   \n",
       "2   25     services  married        high.school      no      yes       no   \n",
       "3   38     services  married           basic.9y      no  unknown  unknown   \n",
       "4   47       admin.  married  university.degree      no      yes       no   \n",
       "\n",
       "     contact month day_of_week  ...  campaign  pdays  previous     poutcome  \\\n",
       "0   cellular   may         fri  ...         2    999         0  nonexistent   \n",
       "1  telephone   may         fri  ...         4    999         0  nonexistent   \n",
       "2  telephone   jun         wed  ...         1    999         0  nonexistent   \n",
       "3  telephone   jun         fri  ...         3    999         0  nonexistent   \n",
       "4   cellular   nov         mon  ...         1    999         0  nonexistent   \n",
       "\n",
       "  emp.var.rate  cons.price.idx  cons.conf.idx  euribor3m  nr.employed   y  \n",
       "0         -1.8          92.893          -46.2      1.313       5099.1  no  \n",
       "1          1.1          93.994          -36.4      4.855       5191.0  no  \n",
       "2          1.4          94.465          -41.8      4.962       5228.1  no  \n",
       "3          1.4          94.465          -41.8      4.959       5228.1  no  \n",
       "4         -0.1          93.200          -42.0      4.191       5195.8  no  \n",
       "\n",
       "[5 rows x 21 columns]"
      ]
     },
     "execution_count": 3,
     "metadata": {},
     "output_type": "execute_result"
    }
   ],
   "source": [
    "data.head()"
   ]
  },
  {
   "cell_type": "code",
   "execution_count": 4,
   "metadata": {},
   "outputs": [
    {
     "data": {
      "text/plain": [
       "(4119, 21)"
      ]
     },
     "execution_count": 4,
     "metadata": {},
     "output_type": "execute_result"
    }
   ],
   "source": [
    "data.shape"
   ]
  },
  {
   "cell_type": "code",
   "execution_count": 5,
   "metadata": {},
   "outputs": [
    {
     "data": {
      "text/plain": [
       "array(['age', 'job', 'marital', 'education', 'default', 'housing', 'loan',\n",
       "       'contact', 'month', 'day_of_week', 'duration', 'campaign', 'pdays',\n",
       "       'previous', 'poutcome', 'emp.var.rate', 'cons.price.idx',\n",
       "       'cons.conf.idx', 'euribor3m', 'nr.employed', 'y'], dtype=object)"
      ]
     },
     "execution_count": 5,
     "metadata": {},
     "output_type": "execute_result"
    }
   ],
   "source": [
    "data.columns.values"
   ]
  },
  {
   "cell_type": "code",
   "execution_count": 6,
   "metadata": {},
   "outputs": [],
   "source": [
    "data[\"y\"] = (data[\"y\"]==\"yes\").astype(int)"
   ]
  },
  {
   "cell_type": "code",
   "execution_count": 7,
   "metadata": {},
   "outputs": [
    {
     "data": {
      "text/plain": [
       "array(['basic.9y', 'high.school', 'university.degree',\n",
       "       'professional.course', 'basic.6y', 'basic.4y', 'unknown',\n",
       "       'illiterate'], dtype=object)"
      ]
     },
     "execution_count": 7,
     "metadata": {},
     "output_type": "execute_result"
    }
   ],
   "source": [
    "data[\"education\"].unique()"
   ]
  },
  {
   "cell_type": "code",
   "execution_count": 8,
   "metadata": {},
   "outputs": [],
   "source": [
    "data[\"education\"] = np.where(data[\"education\"]==\"basic.4y\", \"Basic\", data[\"education\"])\n",
    "data[\"education\"] = np.where(data[\"education\"]==\"basic.6y\", \"Basic\", data[\"education\"])\n",
    "data[\"education\"] = np.where(data[\"education\"]==\"basic.9y\", \"Basic\", data[\"education\"])\n",
    "\n",
    "data[\"education\"] = np.where(data[\"education\"]==\"high.school\", \"High School\", data[\"education\"])\n",
    "data[\"education\"] = np.where(data[\"education\"]==\"professional.course\", \"Professional Course\", data[\"education\"])\n",
    "data[\"education\"] = np.where(data[\"education\"]==\"university.degree\", \"University Degree\", data[\"education\"])\n",
    "\n",
    "data[\"education\"] = np.where(data[\"education\"]==\"illiterate\", \"Illiterate\", data[\"education\"])\n",
    "data[\"education\"] = np.where(data[\"education\"]==\"unknown\", \"Unknown\", data[\"education\"])\n",
    "\n",
    "\n",
    "\n"
   ]
  },
  {
   "cell_type": "code",
   "execution_count": 9,
   "metadata": {},
   "outputs": [
    {
     "data": {
      "text/plain": [
       "array(['Basic', 'High School', 'University Degree', 'Professional Course',\n",
       "       'Unknown', 'Illiterate'], dtype=object)"
      ]
     },
     "execution_count": 9,
     "metadata": {},
     "output_type": "execute_result"
    }
   ],
   "source": [
    "data[\"education\"].unique()"
   ]
  },
  {
   "cell_type": "code",
   "execution_count": 10,
   "metadata": {},
   "outputs": [
    {
     "data": {
      "text/plain": [
       "0    3668\n",
       "1     451\n",
       "Name: y, dtype: int64"
      ]
     },
     "execution_count": 10,
     "metadata": {},
     "output_type": "execute_result"
    }
   ],
   "source": [
    "data[\"y\"].value_counts()"
   ]
  },
  {
   "cell_type": "code",
   "execution_count": 11,
   "metadata": {},
   "outputs": [
    {
     "data": {
      "text/html": [
       "<div>\n",
       "<style scoped>\n",
       "    .dataframe tbody tr th:only-of-type {\n",
       "        vertical-align: middle;\n",
       "    }\n",
       "\n",
       "    .dataframe tbody tr th {\n",
       "        vertical-align: top;\n",
       "    }\n",
       "\n",
       "    .dataframe thead th {\n",
       "        text-align: right;\n",
       "    }\n",
       "</style>\n",
       "<table border=\"1\" class=\"dataframe\">\n",
       "  <thead>\n",
       "    <tr style=\"text-align: right;\">\n",
       "      <th></th>\n",
       "      <th>age</th>\n",
       "      <th>duration</th>\n",
       "      <th>campaign</th>\n",
       "      <th>pdays</th>\n",
       "      <th>previous</th>\n",
       "      <th>emp.var.rate</th>\n",
       "      <th>cons.price.idx</th>\n",
       "      <th>cons.conf.idx</th>\n",
       "      <th>euribor3m</th>\n",
       "      <th>nr.employed</th>\n",
       "    </tr>\n",
       "    <tr>\n",
       "      <th>y</th>\n",
       "      <th></th>\n",
       "      <th></th>\n",
       "      <th></th>\n",
       "      <th></th>\n",
       "      <th></th>\n",
       "      <th></th>\n",
       "      <th></th>\n",
       "      <th></th>\n",
       "      <th></th>\n",
       "      <th></th>\n",
       "    </tr>\n",
       "  </thead>\n",
       "  <tbody>\n",
       "    <tr>\n",
       "      <th>0</th>\n",
       "      <td>39.895311</td>\n",
       "      <td>219.40976</td>\n",
       "      <td>2.605780</td>\n",
       "      <td>982.763086</td>\n",
       "      <td>0.141767</td>\n",
       "      <td>0.240185</td>\n",
       "      <td>93.599677</td>\n",
       "      <td>-40.586723</td>\n",
       "      <td>3.802826</td>\n",
       "      <td>5175.502072</td>\n",
       "    </tr>\n",
       "    <tr>\n",
       "      <th>1</th>\n",
       "      <td>41.889135</td>\n",
       "      <td>560.78714</td>\n",
       "      <td>1.980044</td>\n",
       "      <td>778.722838</td>\n",
       "      <td>0.585366</td>\n",
       "      <td>-1.177384</td>\n",
       "      <td>93.417268</td>\n",
       "      <td>-39.786475</td>\n",
       "      <td>2.145448</td>\n",
       "      <td>5093.118625</td>\n",
       "    </tr>\n",
       "  </tbody>\n",
       "</table>\n",
       "</div>"
      ],
      "text/plain": [
       "         age   duration  campaign       pdays  previous  emp.var.rate  \\\n",
       "y                                                                       \n",
       "0  39.895311  219.40976  2.605780  982.763086  0.141767      0.240185   \n",
       "1  41.889135  560.78714  1.980044  778.722838  0.585366     -1.177384   \n",
       "\n",
       "   cons.price.idx  cons.conf.idx  euribor3m  nr.employed  \n",
       "y                                                         \n",
       "0       93.599677     -40.586723   3.802826  5175.502072  \n",
       "1       93.417268     -39.786475   2.145448  5093.118625  "
      ]
     },
     "execution_count": 11,
     "metadata": {},
     "output_type": "execute_result"
    }
   ],
   "source": [
    "data.groupby(\"y\").mean()"
   ]
  },
  {
   "cell_type": "code",
   "execution_count": 12,
   "metadata": {},
   "outputs": [
    {
     "data": {
      "text/html": [
       "<div>\n",
       "<style scoped>\n",
       "    .dataframe tbody tr th:only-of-type {\n",
       "        vertical-align: middle;\n",
       "    }\n",
       "\n",
       "    .dataframe tbody tr th {\n",
       "        vertical-align: top;\n",
       "    }\n",
       "\n",
       "    .dataframe thead th {\n",
       "        text-align: right;\n",
       "    }\n",
       "</style>\n",
       "<table border=\"1\" class=\"dataframe\">\n",
       "  <thead>\n",
       "    <tr style=\"text-align: right;\">\n",
       "      <th></th>\n",
       "      <th>age</th>\n",
       "      <th>duration</th>\n",
       "      <th>campaign</th>\n",
       "      <th>pdays</th>\n",
       "      <th>previous</th>\n",
       "      <th>emp.var.rate</th>\n",
       "      <th>cons.price.idx</th>\n",
       "      <th>cons.conf.idx</th>\n",
       "      <th>euribor3m</th>\n",
       "      <th>nr.employed</th>\n",
       "      <th>y</th>\n",
       "    </tr>\n",
       "    <tr>\n",
       "      <th>education</th>\n",
       "      <th></th>\n",
       "      <th></th>\n",
       "      <th></th>\n",
       "      <th></th>\n",
       "      <th></th>\n",
       "      <th></th>\n",
       "      <th></th>\n",
       "      <th></th>\n",
       "      <th></th>\n",
       "      <th></th>\n",
       "      <th></th>\n",
       "    </tr>\n",
       "  </thead>\n",
       "  <tbody>\n",
       "    <tr>\n",
       "      <th>Basic</th>\n",
       "      <td>42.337124</td>\n",
       "      <td>253.898457</td>\n",
       "      <td>2.429732</td>\n",
       "      <td>978.815597</td>\n",
       "      <td>0.149472</td>\n",
       "      <td>0.237368</td>\n",
       "      <td>93.658600</td>\n",
       "      <td>-41.120552</td>\n",
       "      <td>3.775701</td>\n",
       "      <td>5174.133144</td>\n",
       "      <td>0.079610</td>\n",
       "    </tr>\n",
       "    <tr>\n",
       "      <th>High School</th>\n",
       "      <td>38.097720</td>\n",
       "      <td>258.534202</td>\n",
       "      <td>2.630836</td>\n",
       "      <td>958.022801</td>\n",
       "      <td>0.206298</td>\n",
       "      <td>-0.002497</td>\n",
       "      <td>93.564314</td>\n",
       "      <td>-40.995765</td>\n",
       "      <td>3.511732</td>\n",
       "      <td>5163.212595</td>\n",
       "      <td>0.105320</td>\n",
       "    </tr>\n",
       "    <tr>\n",
       "      <th>Illiterate</th>\n",
       "      <td>42.000000</td>\n",
       "      <td>146.000000</td>\n",
       "      <td>4.000000</td>\n",
       "      <td>999.000000</td>\n",
       "      <td>0.000000</td>\n",
       "      <td>-2.900000</td>\n",
       "      <td>92.201000</td>\n",
       "      <td>-31.400000</td>\n",
       "      <td>0.834000</td>\n",
       "      <td>5076.200000</td>\n",
       "      <td>0.000000</td>\n",
       "    </tr>\n",
       "    <tr>\n",
       "      <th>Professional Course</th>\n",
       "      <td>40.207477</td>\n",
       "      <td>278.816822</td>\n",
       "      <td>2.512150</td>\n",
       "      <td>958.211215</td>\n",
       "      <td>0.194393</td>\n",
       "      <td>0.163925</td>\n",
       "      <td>93.599630</td>\n",
       "      <td>-40.127664</td>\n",
       "      <td>3.701426</td>\n",
       "      <td>5167.595140</td>\n",
       "      <td>0.121495</td>\n",
       "    </tr>\n",
       "    <tr>\n",
       "      <th>University Degree</th>\n",
       "      <td>39.017405</td>\n",
       "      <td>247.707278</td>\n",
       "      <td>2.583070</td>\n",
       "      <td>947.900316</td>\n",
       "      <td>0.207278</td>\n",
       "      <td>-0.009731</td>\n",
       "      <td>93.499109</td>\n",
       "      <td>-39.830063</td>\n",
       "      <td>3.547132</td>\n",
       "      <td>5163.023180</td>\n",
       "      <td>0.130538</td>\n",
       "    </tr>\n",
       "    <tr>\n",
       "      <th>Unknown</th>\n",
       "      <td>42.826347</td>\n",
       "      <td>267.281437</td>\n",
       "      <td>2.538922</td>\n",
       "      <td>939.700599</td>\n",
       "      <td>0.263473</td>\n",
       "      <td>-0.074251</td>\n",
       "      <td>93.637455</td>\n",
       "      <td>-39.487425</td>\n",
       "      <td>3.410174</td>\n",
       "      <td>5151.260479</td>\n",
       "      <td>0.155689</td>\n",
       "    </tr>\n",
       "  </tbody>\n",
       "</table>\n",
       "</div>"
      ],
      "text/plain": [
       "                           age    duration  campaign       pdays  previous  \\\n",
       "education                                                                    \n",
       "Basic                42.337124  253.898457  2.429732  978.815597  0.149472   \n",
       "High School          38.097720  258.534202  2.630836  958.022801  0.206298   \n",
       "Illiterate           42.000000  146.000000  4.000000  999.000000  0.000000   \n",
       "Professional Course  40.207477  278.816822  2.512150  958.211215  0.194393   \n",
       "University Degree    39.017405  247.707278  2.583070  947.900316  0.207278   \n",
       "Unknown              42.826347  267.281437  2.538922  939.700599  0.263473   \n",
       "\n",
       "                     emp.var.rate  cons.price.idx  cons.conf.idx  euribor3m  \\\n",
       "education                                                                     \n",
       "Basic                    0.237368       93.658600     -41.120552   3.775701   \n",
       "High School             -0.002497       93.564314     -40.995765   3.511732   \n",
       "Illiterate              -2.900000       92.201000     -31.400000   0.834000   \n",
       "Professional Course      0.163925       93.599630     -40.127664   3.701426   \n",
       "University Degree       -0.009731       93.499109     -39.830063   3.547132   \n",
       "Unknown                 -0.074251       93.637455     -39.487425   3.410174   \n",
       "\n",
       "                     nr.employed         y  \n",
       "education                                   \n",
       "Basic                5174.133144  0.079610  \n",
       "High School          5163.212595  0.105320  \n",
       "Illiterate           5076.200000  0.000000  \n",
       "Professional Course  5167.595140  0.121495  \n",
       "University Degree    5163.023180  0.130538  \n",
       "Unknown              5151.260479  0.155689  "
      ]
     },
     "execution_count": 12,
     "metadata": {},
     "output_type": "execute_result"
    }
   ],
   "source": [
    "data.groupby(\"education\").mean()"
   ]
  },
  {
   "cell_type": "code",
   "execution_count": 13,
   "metadata": {},
   "outputs": [
    {
     "data": {
      "text/plain": [
       "Text(0, 0.5, 'Frecuencia de compra del producto')"
      ]
     },
     "execution_count": 13,
     "metadata": {},
     "output_type": "execute_result"
    },
    {
     "data": {
      "image/png": "[encoded data removed]",
      "text/plain": [
       "<Figure size 432x288 with 1 Axes>"
      ]
     },
     "metadata": {
      "needs_background": "light"
     },
     "output_type": "display_data"
    }
   ],
   "source": [
    "%matplotlib inline\n",
    "pd.crosstab(data.education, data.y).plot(kind=\"bar\")\n",
    "plt.title(\"Frecuencia de compra en la funcion del nivel de educacion\")\n",
    "plt.xlabel(\"Nivel de educacion\")\n",
    "plt.ylabel(\"Frecuencia de compra del producto\")"
   ]
  },
  {
   "cell_type": "code",
   "execution_count": 14,
   "metadata": {},
   "outputs": [
    {
     "data": {
      "text/plain": [
       "Text(0, 0.5, 'Proporsion de clientes')"
      ]
     },
     "execution_count": 14,
     "metadata": {},
     "output_type": "execute_result"
    },
    {
     "data": {
      "image/png": "[encoded data removed]",
      "text/plain": [
       "<Figure size 432x288 with 1 Axes>"
      ]
     },
     "metadata": {
      "needs_background": "light"
     },
     "output_type": "display_data"
    }
   ],
   "source": [
    "table = pd.crosstab(data.marital, data.y)\n",
    "table.div(table.sum(1).astype(float), axis= 0).plot(kind=\"bar\", stacked=True)\n",
    "plt.title(\"Diagrama apilado de estado civil contra nivel de compra\")\n",
    "plt.xlabel(\"Estado civil\")\n",
    "plt.ylabel(\"Proporsion de clientes\")"
   ]
  },
  {
   "cell_type": "code",
   "execution_count": 15,
   "metadata": {},
   "outputs": [
    {
     "data": {
      "text/plain": [
       "Text(0, 0.5, 'Frecuencia de compra del producto')"
      ]
     },
     "execution_count": 15,
     "metadata": {},
     "output_type": "execute_result"
    },
    {
     "data": {
      "image/png": "[encoded data removed]",
      "text/plain": [
       "<Figure size 432x288 with 1 Axes>"
      ]
     },
     "metadata": {
      "needs_background": "light"
     },
     "output_type": "display_data"
    }
   ],
   "source": [
    "%matplotlib inline\n",
    "table = pd.crosstab(data.day_of_week, data.y)\n",
    "table.div(table.sum(1).astype(float), axis=0).plot(kind=\"bar\", stacked=True)\n",
    "plt.title(\"Frecuencia de compra en la funcion del dia de la semana\")\n",
    "plt.xlabel(\"Dia de la semana\")\n",
    "plt.ylabel(\"Frecuencia de compra del producto\")"
   ]
  },
  {
   "cell_type": "code",
   "execution_count": 16,
   "metadata": {},
   "outputs": [
    {
     "data": {
      "text/plain": [
       "Text(0, 0.5, 'Frecuencia de compra del producto')"
      ]
     },
     "execution_count": 16,
     "metadata": {},
     "output_type": "execute_result"
    },
    {
     "data": {
      "image/png": "[encoded data removed]",
      "text/plain": [
       "<Figure size 432x288 with 1 Axes>"
      ]
     },
     "metadata": {
      "needs_background": "light"
     },
     "output_type": "display_data"
    }
   ],
   "source": [
    "%matplotlib inline\n",
    "table = pd.crosstab(data.month, data.y)\n",
    "table.div(table.sum(1).astype(float), axis=0).plot(kind=\"bar\", stacked=True)\n",
    "plt.title(\"Frecuencia de compra en la funcion del mes\")\n",
    "plt.xlabel(\"Mes del año\")\n",
    "plt.ylabel(\"Frecuencia de compra del producto\")"
   ]
  },
  {
   "cell_type": "code",
   "execution_count": 17,
   "metadata": {},
   "outputs": [
    {
     "data": {
      "text/plain": [
       "Text(0, 0.5, 'Frecuencia de compra del producto')"
      ]
     },
     "execution_count": 17,
     "metadata": {},
     "output_type": "execute_result"
    },
    {
     "data": {
      "image/png": "[encoded data removed]",
      "text/plain": [
       "<Figure size 432x288 with 1 Axes>"
      ]
     },
     "metadata": {
      "needs_background": "light"
     },
     "output_type": "display_data"
    }
   ],
   "source": [
    "%matplotlib inline\n",
    "table = pd.crosstab(data.month, data.y)\n",
    "table.plot(kind=\"bar\", stacked=False)\n",
    "plt.title(\"Frecuencia de compra en la funcion del mes\")\n",
    "plt.xlabel(\"Mes del año\")\n",
    "plt.ylabel(\"Frecuencia de compra del producto\")"
   ]
  },
  {
   "cell_type": "code",
   "execution_count": 18,
   "metadata": {},
   "outputs": [
    {
     "data": {
      "text/plain": [
       "Text(0, 0.5, 'Clientes')"
      ]
     },
     "execution_count": 18,
     "metadata": {},
     "output_type": "execute_result"
    },
    {
     "data": {
      "image/png": "[encoded data removed]",
      "text/plain": [
       "<Figure size 432x288 with 1 Axes>"
      ]
     },
     "metadata": {
      "needs_background": "light"
     },
     "output_type": "display_data"
    }
   ],
   "source": [
    "%matplotlib inline\n",
    "data.age.hist()\n",
    "plt.title(\"Histograma de la Edad\")\n",
    "plt.xlabel(\"Edad\")\n",
    "plt.ylabel(\"Clientes\")"
   ]
  },
  {
   "cell_type": "code",
   "execution_count": 19,
   "metadata": {},
   "outputs": [
    {
     "data": {
      "text/plain": [
       "<matplotlib.axes._subplots.AxesSubplot at 0x17c0d9d8bc8>"
      ]
     },
     "execution_count": 19,
     "metadata": {},
     "output_type": "execute_result"
    },
    {
     "data": {
      "image/png": "[encoded data removed]",
      "text/plain": [
       "<Figure size 432x288 with 1 Axes>"
      ]
     },
     "metadata": {
      "needs_background": "light"
     },
     "output_type": "display_data"
    }
   ],
   "source": [
    "pd.crosstab(data.age, data.y).plot(kind=\"bar\")"
   ]
  },
  {
   "cell_type": "code",
   "execution_count": 20,
   "metadata": {},
   "outputs": [
    {
     "data": {
      "text/plain": [
       "<matplotlib.axes._subplots.AxesSubplot at 0x17c0ec6de48>"
      ]
     },
     "execution_count": 20,
     "metadata": {},
     "output_type": "execute_result"
    },
    {
     "data": {
      "image/png": "[encoded data removed]",
      "text/plain": [
       "<Figure size 432x288 with 1 Axes>"
      ]
     },
     "metadata": {
      "needs_background": "light"
     },
     "output_type": "display_data"
    }
   ],
   "source": [
    "pd.crosstab(data.poutcome, data.y).plot(kind=\"bar\")"
   ]
  },
  {
   "cell_type": "markdown",
   "metadata": {},
   "source": [
    "## Conversion de las variables categoricas a dummies"
   ]
  },
  {
   "cell_type": "code",
   "execution_count": 21,
   "metadata": {},
   "outputs": [],
   "source": [
    "categories = [\"job\", \"marital\", \"education\",\"housing\", \"loan\", \"contact\", \"month\", \"day_of_week\", \n",
    "             \"poutcome\"]"
   ]
  },
  {
   "cell_type": "code",
   "execution_count": 22,
   "metadata": {},
   "outputs": [],
   "source": [
    "for categorie in categories:\n",
    "    cat_list = \"cat_\" + categorie\n",
    "    cat_dummies = pd.get_dummies(data[categorie], prefix = categorie)\n",
    "    data_new = data.join(cat_dummies)\n",
    "    data = data_new"
   ]
  },
  {
   "cell_type": "code",
   "execution_count": 23,
   "metadata": {},
   "outputs": [],
   "source": [
    "data_vars = data.columns.values.tolist()"
   ]
  },
  {
   "cell_type": "code",
   "execution_count": 24,
   "metadata": {},
   "outputs": [],
   "source": [
    "to_keep = [v for v in data_vars if v not in categories]\n",
    "to_keep = [v for v in to_keep if v not in [\"default\"]]"
   ]
  },
  {
   "cell_type": "code",
   "execution_count": 25,
   "metadata": {},
   "outputs": [
    {
     "data": {
      "text/plain": [
       "array(['age', 'duration', 'campaign', 'pdays', 'previous', 'emp.var.rate',\n",
       "       'cons.price.idx', 'cons.conf.idx', 'euribor3m', 'nr.employed', 'y',\n",
       "       'job_admin.', 'job_blue-collar', 'job_entrepreneur',\n",
       "       'job_housemaid', 'job_management', 'job_retired',\n",
       "       'job_self-employed', 'job_services', 'job_student',\n",
       "       'job_technician', 'job_unemployed', 'job_unknown',\n",
       "       'marital_divorced', 'marital_married', 'marital_single',\n",
       "       'marital_unknown', 'education_Basic', 'education_High School',\n",
       "       'education_Illiterate', 'education_Professional Course',\n",
       "       'education_University Degree', 'education_Unknown', 'housing_no',\n",
       "       'housing_unknown', 'housing_yes', 'loan_no', 'loan_unknown',\n",
       "       'loan_yes', 'contact_cellular', 'contact_telephone', 'month_apr',\n",
       "       'month_aug', 'month_dec', 'month_jul', 'month_jun', 'month_mar',\n",
       "       'month_may', 'month_nov', 'month_oct', 'month_sep',\n",
       "       'day_of_week_fri', 'day_of_week_mon', 'day_of_week_thu',\n",
       "       'day_of_week_tue', 'day_of_week_wed', 'poutcome_failure',\n",
       "       'poutcome_nonexistent', 'poutcome_success'], dtype=object)"
      ]
     },
     "execution_count": 25,
     "metadata": {},
     "output_type": "execute_result"
    }
   ],
   "source": [
    "bank_data = data[to_keep]\n",
    "bank_data.columns.values"
   ]
  },
  {
   "cell_type": "code",
   "execution_count": 68,
   "metadata": {},
   "outputs": [],
   "source": [
    "bank_data_vars = bank_data.columns.values.tolist()\n",
    "Y = ['y']\n",
    "X = [v for v in bank_data_vars if v not in Y]"
   ]
  },
  {
   "cell_type": "markdown",
   "metadata": {},
   "source": [
    "### Seleccion de rasgos para el modelo\n",
    "\n"
   ]
  },
  {
   "cell_type": "code",
   "execution_count": 69,
   "metadata": {},
   "outputs": [],
   "source": [
    "n = 12"
   ]
  },
  {
   "cell_type": "code",
   "execution_count": 28,
   "metadata": {},
   "outputs": [],
   "source": [
    "from sklearn import datasets\n",
    "from sklearn.feature_selection import RFE\n",
    "from sklearn.linear_model import LogisticRegression"
   ]
  },
  {
   "cell_type": "code",
   "execution_count": 73,
   "metadata": {},
   "outputs": [],
   "source": [
    "lr = LogisticRegression(solver='liblinear')"
   ]
  },
  {
   "cell_type": "code",
   "execution_count": 74,
   "metadata": {},
   "outputs": [],
   "source": [
    "rfe = RFE(lr,n)"
   ]
  },
  {
   "cell_type": "code",
   "execution_count": 75,
   "metadata": {},
   "outputs": [],
   "source": [
    "rfe = rfe.fit(bank_data[X], bank_data[Y].values.ravel())"
   ]
  },
  {
   "cell_type": "code",
   "execution_count": 76,
   "metadata": {},
   "outputs": [
    {
     "name": "stdout",
     "output_type": "stream",
     "text": [
      "[False False False False  True False False False  True False False False\n",
      "  True False False False  True False False False False False False False\n",
      " False False False False False False False False False False False False\n",
      " False False False False False False  True  True  True  True  True False\n",
      "  True False False False False False False  True False  True]\n"
     ]
    }
   ],
   "source": [
    "print(rfe.support_)"
   ]
  },
  {
   "cell_type": "code",
   "execution_count": 77,
   "metadata": {},
   "outputs": [
    {
     "name": "stdout",
     "output_type": "stream",
     "text": [
      "[34 41 18 42  1 14 27 25  1 38 22  3  1 35  2 36  1  5 30 33 12 45 19 40\n",
      " 31 47 26 13 46 21 32  8 20  6 10 15  9 23 16  4 43 24  1  1  1  1  1 17\n",
      "  1 44 37 28 39 29 11  1  7  1]\n"
     ]
    }
   ],
   "source": [
    "print(rfe.ranking_)"
   ]
  },
  {
   "cell_type": "code",
   "execution_count": 78,
   "metadata": {},
   "outputs": [],
   "source": [
    "z = zip(bank_data_vars, rfe.support_, rfe.ranking_)"
   ]
  },
  {
   "cell_type": "code",
   "execution_count": 79,
   "metadata": {},
   "outputs": [
    {
     "data": {
      "text/plain": [
       "[('age', False, 34),\n",
       " ('duration', False, 41),\n",
       " ('campaign', False, 18),\n",
       " ('pdays', False, 42),\n",
       " ('previous', True, 1),\n",
       " ('emp.var.rate', False, 14),\n",
       " ('cons.price.idx', False, 27),\n",
       " ('cons.conf.idx', False, 25),\n",
       " ('euribor3m', True, 1),\n",
       " ('nr.employed', False, 38),\n",
       " ('y', False, 22),\n",
       " ('job_admin.', False, 3),\n",
       " ('job_blue-collar', True, 1),\n",
       " ('job_entrepreneur', False, 35),\n",
       " ('job_housemaid', False, 2),\n",
       " ('job_management', False, 36),\n",
       " ('job_retired', True, 1),\n",
       " ('job_self-employed', False, 5),\n",
       " ('job_services', False, 30),\n",
       " ('job_student', False, 33),\n",
       " ('job_technician', False, 12),\n",
       " ('job_unemployed', False, 45),\n",
       " ('job_unknown', False, 19),\n",
       " ('marital_divorced', False, 40),\n",
       " ('marital_married', False, 31),\n",
       " ('marital_single', False, 47),\n",
       " ('marital_unknown', False, 26),\n",
       " ('education_Basic', False, 13),\n",
       " ('education_High School', False, 46),\n",
       " ('education_Illiterate', False, 21),\n",
       " ('education_Professional Course', False, 32),\n",
       " ('education_University Degree', False, 8),\n",
       " ('education_Unknown', False, 20),\n",
       " ('housing_no', False, 6),\n",
       " ('housing_unknown', False, 10),\n",
       " ('housing_yes', False, 15),\n",
       " ('loan_no', False, 9),\n",
       " ('loan_unknown', False, 23),\n",
       " ('loan_yes', False, 16),\n",
       " ('contact_cellular', False, 4),\n",
       " ('contact_telephone', False, 43),\n",
       " ('month_apr', False, 24),\n",
       " ('month_aug', True, 1),\n",
       " ('month_dec', True, 1),\n",
       " ('month_jul', True, 1),\n",
       " ('month_jun', True, 1),\n",
       " ('month_mar', True, 1),\n",
       " ('month_may', False, 17),\n",
       " ('month_nov', True, 1),\n",
       " ('month_oct', False, 44),\n",
       " ('month_sep', False, 37),\n",
       " ('day_of_week_fri', False, 28),\n",
       " ('day_of_week_mon', False, 39),\n",
       " ('day_of_week_thu', False, 29),\n",
       " ('day_of_week_tue', False, 11),\n",
       " ('day_of_week_wed', True, 1),\n",
       " ('poutcome_failure', False, 7),\n",
       " ('poutcome_nonexistent', True, 1)]"
      ]
     },
     "execution_count": 79,
     "metadata": {},
     "output_type": "execute_result"
    }
   ],
   "source": [
    "list(z)"
   ]
  },
  {
   "cell_type": "code",
   "execution_count": 39,
   "metadata": {},
   "outputs": [],
   "source": [
    "col = ['previous',\"euribor3m\",\"job_blue-collar\", \"job_retired\",\"month_aug\"]"
   ]
  },
  {
   "cell_type": "code",
   "execution_count": 57,
   "metadata": {},
   "outputs": [],
   "source": [
    "cols = []\n",
    "for i in list(zip(bank_data_vars, rfe.support_, rfe.ranking_)):\n",
    "    if(i[1]):\n",
    "        cols.append(i[0])"
   ]
  },
  {
   "cell_type": "code",
   "execution_count": 55,
   "metadata": {},
   "outputs": [
    {
     "data": {
      "text/plain": [
       "['previous',\n",
       " 'euribor3m',\n",
       " 'job_blue-collar',\n",
       " 'job_retired',\n",
       " 'month_aug',\n",
       " 'month_dec',\n",
       " 'month_jul',\n",
       " 'month_jun',\n",
       " 'month_mar',\n",
       " 'month_nov',\n",
       " 'day_of_week_wed',\n",
       " 'poutcome_nonexistent']"
      ]
     },
     "execution_count": 55,
     "metadata": {},
     "output_type": "execute_result"
    }
   ],
   "source": [
    "col"
   ]
  },
  {
   "cell_type": "code",
   "execution_count": 89,
   "metadata": {},
   "outputs": [],
   "source": [
    "X = bank_data[cols]\n",
    "Y = bank_data[\"y\"]"
   ]
  },
  {
   "cell_type": "code",
   "execution_count": 80,
   "metadata": {},
   "outputs": [],
   "source": [
    "## Implementaciob del modelo en Python con statsmodel.api"
   ]
  },
  {
   "cell_type": "code",
   "execution_count": 85,
   "metadata": {},
   "outputs": [
    {
     "name": "stderr",
     "output_type": "stream",
     "text": [
      "C:\\ProgramData\\Anaconda3\\lib\\site-packages\\statsmodels\\tools\\_testing.py:19: FutureWarning: pandas.util.testing is deprecated. Use the functions in the public API at pandas.testing instead.\n",
      "  import pandas.util.testing as tm\n"
     ]
    }
   ],
   "source": [
    "import statsmodels.api as sm"
   ]
  },
  {
   "cell_type": "code",
   "execution_count": 91,
   "metadata": {},
   "outputs": [],
   "source": [
    "logit_model = sm.Logit(Y,X)"
   ]
  },
  {
   "cell_type": "code",
   "execution_count": 92,
   "metadata": {},
   "outputs": [
    {
     "name": "stdout",
     "output_type": "stream",
     "text": [
      "Optimization terminated successfully.\n",
      "         Current function value: 0.291770\n",
      "         Iterations 7\n"
     ]
    }
   ],
   "source": [
    "result = logit_model.fit()"
   ]
  },
  {
   "cell_type": "code",
   "execution_count": 93,
   "metadata": {},
   "outputs": [
    {
     "data": {
      "text/html": [
       "<table class=\"simpletable\">\n",
       "<tr>\n",
       "        <td>Model:</td>              <td>Logit</td>      <td>Pseudo R-squared:</td>    <td>0.155</td>  \n",
       "</tr>\n",
       "<tr>\n",
       "  <td>Dependent Variable:</td>         <td>y</td>              <td>AIC:</td>         <td>2427.6025</td>\n",
       "</tr>\n",
       "<tr>\n",
       "         <td>Date:</td>        <td>2020-05-12 18:45</td>       <td>BIC:</td>         <td>2503.4828</td>\n",
       "</tr>\n",
       "<tr>\n",
       "   <td>No. Observations:</td>        <td>4119</td>        <td>Log-Likelihood:</td>    <td>-1201.8</td> \n",
       "</tr>\n",
       "<tr>\n",
       "       <td>Df Model:</td>             <td>11</td>            <td>LL-Null:</td>        <td>-1422.9</td> \n",
       "</tr>\n",
       "<tr>\n",
       "     <td>Df Residuals:</td>          <td>4107</td>         <td>LLR p-value:</td>    <td>6.4492e-88</td>\n",
       "</tr>\n",
       "<tr>\n",
       "      <td>Converged:</td>           <td>1.0000</td>           <td>Scale:</td>         <td>1.0000</td>  \n",
       "</tr>\n",
       "<tr>\n",
       "    <td>No. Iterations:</td>        <td>7.0000</td>              <td></td>               <td></td>     \n",
       "</tr>\n",
       "</table>\n",
       "<table class=\"simpletable\">\n",
       "<tr>\n",
       "            <td></td>            <th>Coef.</th>  <th>Std.Err.</th>     <th>z</th>     <th>P>|z|</th> <th>[0.025</th>  <th>0.975]</th> \n",
       "</tr>\n",
       "<tr>\n",
       "  <th>previous</th>             <td>-0.1229</td>  <td>0.0700</td>   <td>-1.7545</td> <td>0.0793</td> <td>-0.2601</td> <td>0.0144</td> \n",
       "</tr>\n",
       "<tr>\n",
       "  <th>euribor3m</th>            <td>-0.6049</td>  <td>0.0383</td>  <td>-15.7882</td> <td>0.0000</td> <td>-0.6800</td> <td>-0.5298</td>\n",
       "</tr>\n",
       "<tr>\n",
       "  <th>job_blue-collar</th>      <td>-0.5032</td>  <td>0.1519</td>   <td>-3.3136</td> <td>0.0009</td> <td>-0.8009</td> <td>-0.2056</td>\n",
       "</tr>\n",
       "<tr>\n",
       "  <th>job_retired</th>          <td>0.2235</td>   <td>0.2191</td>   <td>1.0205</td>  <td>0.3075</td> <td>-0.2058</td> <td>0.6529</td> \n",
       "</tr>\n",
       "<tr>\n",
       "  <th>month_aug</th>            <td>0.6048</td>   <td>0.1759</td>   <td>3.4374</td>  <td>0.0006</td> <td>0.2600</td>  <td>0.9497</td> \n",
       "</tr>\n",
       "<tr>\n",
       "  <th>month_dec</th>            <td>1.1358</td>   <td>0.4493</td>   <td>2.5281</td>  <td>0.0115</td> <td>0.2552</td>  <td>2.0163</td> \n",
       "</tr>\n",
       "<tr>\n",
       "  <th>month_jul</th>            <td>1.0327</td>   <td>0.1910</td>   <td>5.4071</td>  <td>0.0000</td> <td>0.6584</td>  <td>1.4070</td> \n",
       "</tr>\n",
       "<tr>\n",
       "  <th>month_jun</th>            <td>1.0775</td>   <td>0.1752</td>   <td>6.1493</td>  <td>0.0000</td> <td>0.7341</td>  <td>1.4210</td> \n",
       "</tr>\n",
       "<tr>\n",
       "  <th>month_mar</th>            <td>1.6448</td>   <td>0.3139</td>   <td>5.2407</td>  <td>0.0000</td> <td>1.0297</td>  <td>2.2600</td> \n",
       "</tr>\n",
       "<tr>\n",
       "  <th>month_nov</th>            <td>0.3828</td>   <td>0.1950</td>   <td>1.9634</td>  <td>0.0496</td> <td>0.0007</td>  <td>0.7649</td> \n",
       "</tr>\n",
       "<tr>\n",
       "  <th>day_of_week_wed</th>      <td>-0.0649</td>  <td>0.1391</td>   <td>-0.4665</td> <td>0.6409</td> <td>-0.3375</td> <td>0.2077</td> \n",
       "</tr>\n",
       "<tr>\n",
       "  <th>poutcome_nonexistent</th> <td>-0.7753</td>  <td>0.1221</td>   <td>-6.3492</td> <td>0.0000</td> <td>-1.0147</td> <td>-0.5360</td>\n",
       "</tr>\n",
       "</table>"
      ],
      "text/plain": [
       "<class 'statsmodels.iolib.summary2.Summary'>\n",
       "\"\"\"\n",
       "                           Results: Logit\n",
       "=====================================================================\n",
       "Model:                Logit             Pseudo R-squared:  0.155     \n",
       "Dependent Variable:   y                 AIC:               2427.6025 \n",
       "Date:                 2020-05-12 18:45  BIC:               2503.4828 \n",
       "No. Observations:     4119              Log-Likelihood:    -1201.8   \n",
       "Df Model:             11                LL-Null:           -1422.9   \n",
       "Df Residuals:         4107              LLR p-value:       6.4492e-88\n",
       "Converged:            1.0000            Scale:             1.0000    \n",
       "No. Iterations:       7.0000                                         \n",
       "---------------------------------------------------------------------\n",
       "                      Coef.  Std.Err.    z     P>|z|   [0.025  0.975]\n",
       "---------------------------------------------------------------------\n",
       "previous             -0.1229   0.0700  -1.7545 0.0793 -0.2601  0.0144\n",
       "euribor3m            -0.6049   0.0383 -15.7882 0.0000 -0.6800 -0.5298\n",
       "job_blue-collar      -0.5032   0.1519  -3.3136 0.0009 -0.8009 -0.2056\n",
       "job_retired           0.2235   0.2191   1.0205 0.3075 -0.2058  0.6529\n",
       "month_aug             0.6048   0.1759   3.4374 0.0006  0.2600  0.9497\n",
       "month_dec             1.1358   0.4493   2.5281 0.0115  0.2552  2.0163\n",
       "month_jul             1.0327   0.1910   5.4071 0.0000  0.6584  1.4070\n",
       "month_jun             1.0775   0.1752   6.1493 0.0000  0.7341  1.4210\n",
       "month_mar             1.6448   0.3139   5.2407 0.0000  1.0297  2.2600\n",
       "month_nov             0.3828   0.1950   1.9634 0.0496  0.0007  0.7649\n",
       "day_of_week_wed      -0.0649   0.1391  -0.4665 0.6409 -0.3375  0.2077\n",
       "poutcome_nonexistent -0.7753   0.1221  -6.3492 0.0000 -1.0147 -0.5360\n",
       "=====================================================================\n",
       "\n",
       "\"\"\""
      ]
     },
     "execution_count": 93,
     "metadata": {},
     "output_type": "execute_result"
    }
   ],
   "source": [
    "result.summary2()"
   ]
  },
  {
   "cell_type": "markdown",
   "metadata": {},
   "source": [
    "### Implementacion del modelo en Python con scikit-learn"
   ]
  },
  {
   "cell_type": "code",
   "execution_count": 95,
   "metadata": {},
   "outputs": [],
   "source": [
    "from sklearn import linear_model"
   ]
  },
  {
   "cell_type": "code",
   "execution_count": 96,
   "metadata": {},
   "outputs": [],
   "source": [
    "logic_model = linear_model.LogisticRegression()"
   ]
  },
  {
   "cell_type": "code",
   "execution_count": 97,
   "metadata": {},
   "outputs": [
    {
     "name": "stderr",
     "output_type": "stream",
     "text": [
      "C:\\ProgramData\\Anaconda3\\lib\\site-packages\\sklearn\\linear_model\\logistic.py:432: FutureWarning: Default solver will be changed to 'lbfgs' in 0.22. Specify a solver to silence this warning.\n",
      "  FutureWarning)\n"
     ]
    },
    {
     "data": {
      "text/plain": [
       "LogisticRegression(C=1.0, class_weight=None, dual=False, fit_intercept=True,\n",
       "                   intercept_scaling=1, l1_ratio=None, max_iter=100,\n",
       "                   multi_class='warn', n_jobs=None, penalty='l2',\n",
       "                   random_state=None, solver='warn', tol=0.0001, verbose=0,\n",
       "                   warm_start=False)"
      ]
     },
     "execution_count": 97,
     "metadata": {},
     "output_type": "execute_result"
    }
   ],
   "source": [
    "logic_model.fit(X,Y)"
   ]
  },
  {
   "cell_type": "code",
   "execution_count": 98,
   "metadata": {},
   "outputs": [
    {
     "data": {
      "text/plain": [
       "0.8963340616654528"
      ]
     },
     "execution_count": 98,
     "metadata": {},
     "output_type": "execute_result"
    }
   ],
   "source": [
    "logic_model.score(X,Y)"
   ]
  },
  {
   "cell_type": "code",
   "execution_count": 99,
   "metadata": {},
   "outputs": [
    {
     "data": {
      "text/plain": [
       "0.10949259529011895"
      ]
     },
     "execution_count": 99,
     "metadata": {},
     "output_type": "execute_result"
    }
   ],
   "source": [
    "Y.mean()"
   ]
  },
  {
   "cell_type": "code",
   "execution_count": 100,
   "metadata": {},
   "outputs": [
    {
     "data": {
      "text/plain": [
       "0.8905074047098811"
      ]
     },
     "execution_count": 100,
     "metadata": {},
     "output_type": "execute_result"
    }
   ],
   "source": [
    "# Eficacia\n",
    "1 - Y.mean()"
   ]
  },
  {
   "cell_type": "code",
   "execution_count": 101,
   "metadata": {},
   "outputs": [
    {
     "data": {
      "text/html": [
       "<div>\n",
       "<style scoped>\n",
       "    .dataframe tbody tr th:only-of-type {\n",
       "        vertical-align: middle;\n",
       "    }\n",
       "\n",
       "    .dataframe tbody tr th {\n",
       "        vertical-align: top;\n",
       "    }\n",
       "\n",
       "    .dataframe thead th {\n",
       "        text-align: right;\n",
       "    }\n",
       "</style>\n",
       "<table border=\"1\" class=\"dataframe\">\n",
       "  <thead>\n",
       "    <tr style=\"text-align: right;\">\n",
       "      <th></th>\n",
       "      <th>0</th>\n",
       "      <th>1</th>\n",
       "    </tr>\n",
       "  </thead>\n",
       "  <tbody>\n",
       "    <tr>\n",
       "      <th>0</th>\n",
       "      <td>previous</td>\n",
       "      <td>[0.5076571353702829]</td>\n",
       "    </tr>\n",
       "    <tr>\n",
       "      <th>1</th>\n",
       "      <td>euribor3m</td>\n",
       "      <td>[-0.546496133920961]</td>\n",
       "    </tr>\n",
       "    <tr>\n",
       "      <th>2</th>\n",
       "      <td>job_blue-collar</td>\n",
       "      <td>[-0.3591553622507818]</td>\n",
       "    </tr>\n",
       "    <tr>\n",
       "      <th>3</th>\n",
       "      <td>job_retired</td>\n",
       "      <td>[0.35603838876396016]</td>\n",
       "    </tr>\n",
       "    <tr>\n",
       "      <th>4</th>\n",
       "      <td>month_aug</td>\n",
       "      <td>[0.6253983085949565]</td>\n",
       "    </tr>\n",
       "    <tr>\n",
       "      <th>5</th>\n",
       "      <td>month_dec</td>\n",
       "      <td>[1.1822172985978154]</td>\n",
       "    </tr>\n",
       "    <tr>\n",
       "      <th>6</th>\n",
       "      <td>month_jul</td>\n",
       "      <td>[0.9622633626968825]</td>\n",
       "    </tr>\n",
       "    <tr>\n",
       "      <th>7</th>\n",
       "      <td>month_jun</td>\n",
       "      <td>[1.0543179248209773]</td>\n",
       "    </tr>\n",
       "    <tr>\n",
       "      <th>8</th>\n",
       "      <td>month_mar</td>\n",
       "      <td>[1.6306366297798072]</td>\n",
       "    </tr>\n",
       "    <tr>\n",
       "      <th>9</th>\n",
       "      <td>month_nov</td>\n",
       "      <td>[0.45195768179106927]</td>\n",
       "    </tr>\n",
       "    <tr>\n",
       "      <th>10</th>\n",
       "      <td>day_of_week_wed</td>\n",
       "      <td>[0.0417143384703911]</td>\n",
       "    </tr>\n",
       "    <tr>\n",
       "      <th>11</th>\n",
       "      <td>poutcome_nonexistent</td>\n",
       "      <td>[0.30569877094516923]</td>\n",
       "    </tr>\n",
       "  </tbody>\n",
       "</table>\n",
       "</div>"
      ],
      "text/plain": [
       "                       0                      1\n",
       "0               previous   [0.5076571353702829]\n",
       "1              euribor3m   [-0.546496133920961]\n",
       "2        job_blue-collar  [-0.3591553622507818]\n",
       "3            job_retired  [0.35603838876396016]\n",
       "4              month_aug   [0.6253983085949565]\n",
       "5              month_dec   [1.1822172985978154]\n",
       "6              month_jul   [0.9622633626968825]\n",
       "7              month_jun   [1.0543179248209773]\n",
       "8              month_mar   [1.6306366297798072]\n",
       "9              month_nov  [0.45195768179106927]\n",
       "10       day_of_week_wed   [0.0417143384703911]\n",
       "11  poutcome_nonexistent  [0.30569877094516923]"
      ]
     },
     "execution_count": 101,
     "metadata": {},
     "output_type": "execute_result"
    }
   ],
   "source": [
    "pd.DataFrame(zip(X.columns, np.transpose(logic_model.coef_)))"
   ]
  },
  {
   "cell_type": "markdown",
   "metadata": {},
   "source": [
    "### Validacion del modelo logistico"
   ]
  },
  {
   "cell_type": "code",
   "execution_count": 102,
   "metadata": {},
   "outputs": [],
   "source": [
    "from sklearn.model_selection import train_test_split"
   ]
  },
  {
   "cell_type": "code",
   "execution_count": 104,
   "metadata": {},
   "outputs": [],
   "source": [
    "X_train, X_test, Y_train, Y_test = train_test_split(X,Y,test_size = 0.3, random_state=0)"
   ]
  },
  {
   "cell_type": "code",
   "execution_count": 105,
   "metadata": {},
   "outputs": [
    {
     "name": "stderr",
     "output_type": "stream",
     "text": [
      "C:\\ProgramData\\Anaconda3\\lib\\site-packages\\sklearn\\linear_model\\logistic.py:432: FutureWarning: Default solver will be changed to 'lbfgs' in 0.22. Specify a solver to silence this warning.\n",
      "  FutureWarning)\n"
     ]
    },
    {
     "data": {
      "text/plain": [
       "LogisticRegression(C=1.0, class_weight=None, dual=False, fit_intercept=True,\n",
       "                   intercept_scaling=1, l1_ratio=None, max_iter=100,\n",
       "                   multi_class='warn', n_jobs=None, penalty='l2',\n",
       "                   random_state=None, solver='warn', tol=0.0001, verbose=0,\n",
       "                   warm_start=False)"
      ]
     },
     "execution_count": 105,
     "metadata": {},
     "output_type": "execute_result"
    }
   ],
   "source": [
    "lm = linear_model.LogisticRegression()\n",
    "lm.fit(X_train,Y_train)"
   ]
  },
  {
   "cell_type": "code",
   "execution_count": 106,
   "metadata": {},
   "outputs": [],
   "source": [
    "probs = lm.predict_proba(X_test)"
   ]
  },
  {
   "cell_type": "code",
   "execution_count": 112,
   "metadata": {},
   "outputs": [],
   "source": [
    "\n",
    "from IPython.display import display, Math, Latex"
   ]
  },
  {
   "cell_type": "code",
   "execution_count": null,
   "metadata": {},
   "outputs": [],
   "source": []
  },
  {
   "cell_type": "code",
   "execution_count": 108,
   "metadata": {},
   "outputs": [],
   "source": [
    "prediction = lm.predict(X_test)"
   ]
  },
  {
   "cell_type": "code",
   "execution_count": 109,
   "metadata": {},
   "outputs": [
    {
     "data": {
      "text/plain": [
       "array([0, 0, 0, ..., 0, 0, 0])"
      ]
     },
     "execution_count": 109,
     "metadata": {},
     "output_type": "execute_result"
    }
   ],
   "source": [
    "prediction"
   ]
  },
  {
   "cell_type": "code",
   "execution_count": null,
   "metadata": {},
   "outputs": [],
   "source": []
  }
 ],
 "metadata": {
  "kernelspec": {
   "display_name": "Python 3",
   "language": "python",
   "name": "python3"
  },
  "language_info": {
   "codemirror_mode": {
    "name": "ipython",
    "version": 3
   },
   "file_extension": ".py",
   "mimetype": "text/x-python",
   "name": "python",
   "nbconvert_exporter": "python",
   "pygments_lexer": "ipython3",
   "version": "3.7.4"
  }
 },
 "nbformat": 4,
 "nbformat_minor": 2
}
