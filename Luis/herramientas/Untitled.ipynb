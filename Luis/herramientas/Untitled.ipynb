{
 "cells": [
  {
   "cell_type": "code",
   "execution_count": 1,
   "metadata": {},
   "outputs": [],
   "source": [
    "import pandas as pd"
   ]
  },
  {
   "cell_type": "code",
   "execution_count": 2,
   "metadata": {},
   "outputs": [],
   "source": [
    "data = pd.read_html(\"https://historico.servel.cl/servel/app/index.php?r=EleccionesGenerico/Default/Partidos&id=8\")"
   ]
  },
  {
   "cell_type": "code",
   "execution_count": 3,
   "metadata": {},
   "outputs": [
    {
     "name": "stdout",
     "output_type": "stream",
     "text": [
      "                            Región  CH1 IGUALDAD     ILA     ILB     ILC  \\\n",
      "0               ARICA Y PARINACOTA    -      626      57       -       -   \n",
      "1                      DE TARAPACA    -        -   2.094     345   1.424   \n",
      "2                   DE ANTOFAGASTA  123        -       -      93  26.966   \n",
      "3                       DE ATACAMA    -        -       -  21.202   7.109   \n",
      "4                      DE COQUIMBO    -      589      46   2.862   1.878   \n",
      "5                    DE VALPARAISO    -    4.379   1.236   3.590   8.383   \n",
      "6        METROPOLITANA DE SANTIAGO    -   14.211  15.337  33.324  11.135   \n",
      "7    DEL LIBERTADOR BDO. O'HIGGINS    -        -       -   2.368   5.407   \n",
      "8                        DEL MAULE    -        -       -   4.643     997   \n",
      "9                       DEL BIOBIO    -        -       -  15.506       -   \n",
      "10                 DE LA ARAUCANIA    -        -       -   3.585  12.013   \n",
      "11                     DE LOS RIOS    -        -       -       -       -   \n",
      "12                    DE LOS LAGOS    -        -       -   1.379       -   \n",
      "13  AISEN DEL GRAL. CARLOS IBAÑEZ    -        -       -     119       -   \n",
      "14   DE MAGALLANES Y ANTARTICA CH.    -        -       -   1.926       -   \n",
      "15                             NaN  NaN      NaN     NaN     NaN     NaN   \n",
      "16                           TOTAL  123   19.805  18.770  90.942  75.312   \n",
      "17                             NaN  NaN      NaN     NaN     NaN     NaN   \n",
      "\n",
      "      ILD      ILE      ILF     ILG  ...      PH      PPD     PRI     PRO  \\\n",
      "0       -        -        -       -  ...       -    1.488   1.926  17.950   \n",
      "1     168      506        -       -  ...       -    1.903     499   1.575   \n",
      "2   9.683        -   21.938     958  ...       -    2.540   3.248     243   \n",
      "3       -        -   14.097     120  ...       -    6.551       -   6.844   \n",
      "4       -    8.306    7.300     780  ...     619   19.938   1.629       -   \n",
      "5       -   27.359   23.302     268  ...   4.302    8.829      94   6.801   \n",
      "6       -   57.122   27.438   5.855  ...  16.270  197.320   3.067  44.939   \n",
      "7       -    1.170   17.722   1.158  ...   1.848   20.320   7.267     308   \n",
      "8       -   12.507    3.358     941  ...   2.646   14.949   4.835   1.490   \n",
      "9       -    6.173   24.741   8.220  ...   8.868   38.117   2.420       -   \n",
      "10      -      285   13.910   5.762  ...       -   29.909   8.361   1.221   \n",
      "11      -        -        -       -  ...      40   16.366     199       -   \n",
      "12      -        -   13.121       -  ...       -    2.502   7.594   7.282   \n",
      "13      -      118      561       -  ...       -    1.917   1.715     147   \n",
      "14      -   16.144    2.072     167  ...      68        -       -       -   \n",
      "15    NaN      NaN      NaN     NaN  ...     NaN      NaN     NaN     NaN   \n",
      "16  9.851  129.690  169.560  24.229  ...  34.661  362.649  42.854  88.800   \n",
      "17    NaN      NaN      NaN     NaN  ...     NaN      NaN     NaN     NaN   \n",
      "\n",
      "       PRSD       PS       RN      UDI      Total Unnamed: 26  \n",
      "0       686   11.384   12.297  864.000     56.231         NaN  \n",
      "1     1.405    3.782    3.202    7.448     82.436         NaN  \n",
      "2     2.886    3.108  446.000  654.000    140.475         NaN  \n",
      "3     2.765    2.145    3.578  131.000     91.554         NaN  \n",
      "4    31.968    3.635   15.691    9.751    219.477         NaN  \n",
      "5     5.418   38.257   40.370  142.745    586.654         NaN  \n",
      "6         -  231.771  290.053  438.270  1.930.135         NaN  \n",
      "7     9.159   38.187   13.550  100.616    351.627         NaN  \n",
      "8    33.891   25.534   49.613   78.837    421.863         NaN  \n",
      "9    64.920   95.536   51.340  103.968    785.619         NaN  \n",
      "10   19.567   14.136  106.535   35.540    369.064         NaN  \n",
      "11        -   17.434   25.768   13.842    144.833         NaN  \n",
      "12    9.830   47.340   40.665   48.553    279.888         NaN  \n",
      "13        -   14.900    2.095    8.897     36.685         NaN  \n",
      "14       97  164.000  164.000    6.920     45.827         NaN  \n",
      "15      NaN      NaN      NaN      NaN        NaN         NaN  \n",
      "16  182.592  547.313  655.367  997.036  5.542.368         NaN  \n",
      "17      NaN      NaN      NaN      NaN        NaN         NaN  \n",
      "\n",
      "[18 rows x 27 columns]\n",
      "   0   1   2   3   4   5   6   7   8   9   ...  27  28  29  30  31  32  33  \\\n",
      "0 NaN NaN NaN NaN NaN NaN NaN NaN NaN NaN  ... NaN NaN NaN NaN NaN NaN NaN   \n",
      "\n",
      "   34  35  36  \n",
      "0 NaN NaN NaN  \n",
      "\n",
      "[1 rows x 37 columns]\n",
      "       Sigla                                 Descripción\n",
      "0        CH1                                CHILEPRIMERO\n",
      "1   IGUALDAD                            PARTIDO IGUALDAD\n",
      "2        ILA                      INDEPENDIENTES LISTA A\n",
      "3        ILB                      INDEPENDIENTES LISTA B\n",
      "4        ILC                      INDEPENDIENTES LISTA C\n",
      "5        ILD                      INDEPENDIENTES LISTA D\n",
      "6        ILE                      INDEPENDIENTES LISTA E\n",
      "7        ILF                      INDEPENDIENTES LISTA F\n",
      "8        ILG                      INDEPENDIENTES LISTA G\n",
      "9        ILH                      INDEPENDIENTES LISTA H\n",
      "10       ILI                      INDEPENDIENTES LISTA I\n",
      "11       IND                              INDEPENDIENTES\n",
      "12       MAS                    MOVIMIENTO AMPLIO SOCIAL\n",
      "13      PCCH                  PARTIDO COMUNISTA DE CHILE\n",
      "14       PDC                 PARTIDO DEMOCRATA CRISTIANO\n",
      "15       PEV                    PARTIDO ECOLOGISTA VERDE\n",
      "16        PH                           PARTIDO HUMANISTA\n",
      "17       PPD                   PARTIDO POR LA DEMOCRACIA\n",
      "18       PRI  PARTIDO REGIONALISTA DE LOS INDEPENDIENTES\n",
      "19       PRO                         PARTIDO PROGRESISTA\n",
      "20      PRSD             PARTIDO RADICAL SOCIALDEMOCRATA\n",
      "21        PS                 PARTIDO SOCIALISTA DE CHILE\n",
      "22        RN                         RENOVACION NACIONAL\n",
      "23       UDI               UNION DEMOCRATA INDEPENDIENTE\n"
     ]
    }
   ],
   "source": [
    "for i in data:\n",
    "    print(i)"
   ]
  },
  {
   "cell_type": "code",
   "execution_count": null,
   "metadata": {},
   "outputs": [],
   "source": []
  }
 ],
 "metadata": {
  "kernelspec": {
   "display_name": "Python 3",
   "language": "python",
   "name": "python3"
  },
  "language_info": {
   "codemirror_mode": {
    "name": "ipython",
    "version": 3
   },
   "file_extension": ".py",
   "mimetype": "text/x-python",
   "name": "python",
   "nbconvert_exporter": "python",
   "pygments_lexer": "ipython3",
   "version": "3.7.4"
  }
 },
 "nbformat": 4,
 "nbformat_minor": 2
}
