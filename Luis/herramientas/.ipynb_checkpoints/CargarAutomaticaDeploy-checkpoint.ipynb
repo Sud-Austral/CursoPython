{
 "cells": [
  {
   "cell_type": "code",
   "execution_count": 10,
   "metadata": {},
   "outputs": [],
   "source": [
    "import pandas as pd\n",
    "import pyodbc\n",
    "import sqlalchemy\n",
    "import datetime\n",
    "import cargaAutomatica as cA"
   ]
  },
  {
   "cell_type": "code",
   "execution_count": 15,
   "metadata": {},
   "outputs": [],
   "source": [
    "import cargaAutomatica as cA"
   ]
  },
  {
   "cell_type": "code",
   "execution_count": 6,
   "metadata": {},
   "outputs": [],
   "source": [
    "url = \"_TablaCatastroDatos_DI_BsNs.xlsx\""
   ]
  },
  {
   "cell_type": "code",
   "execution_count": 16,
   "metadata": {},
   "outputs": [
    {
     "ename": "AttributeError",
     "evalue": "module 'cargaAutomatica' has no attribute 'getDetalle'",
     "output_type": "error",
     "traceback": [
      "\u001b[1;31m---------------------------------------------------------------------------\u001b[0m",
      "\u001b[1;31mAttributeError\u001b[0m                            Traceback (most recent call last)",
      "\u001b[1;32m<ipython-input-16-6cb472d53f5b>\u001b[0m in \u001b[0;36m<module>\u001b[1;34m\u001b[0m\n\u001b[0;32m      1\u001b[0m \u001b[0mdata_descripcion_fuentes\u001b[0m \u001b[1;33m=\u001b[0m \u001b[0mcA\u001b[0m\u001b[1;33m.\u001b[0m\u001b[0mgetDescripcion\u001b[0m\u001b[1;33m(\u001b[0m\u001b[0murl\u001b[0m\u001b[1;33m)\u001b[0m\u001b[1;33m\u001b[0m\u001b[1;33m\u001b[0m\u001b[0m\n\u001b[1;32m----> 2\u001b[1;33m \u001b[0mdata_detalle_fuentes\u001b[0m \u001b[1;33m=\u001b[0m \u001b[0mcA\u001b[0m\u001b[1;33m.\u001b[0m\u001b[0mgetDetalle\u001b[0m\u001b[1;33m(\u001b[0m\u001b[0murl\u001b[0m\u001b[1;33m)\u001b[0m\u001b[1;33m\u001b[0m\u001b[1;33m\u001b[0m\u001b[0m\n\u001b[0m\u001b[0;32m      3\u001b[0m \u001b[0mdata_geoservicios\u001b[0m \u001b[1;33m=\u001b[0m \u001b[0mcA\u001b[0m\u001b[1;33m.\u001b[0m\u001b[0mgetDescripcion\u001b[0m\u001b[1;33m(\u001b[0m\u001b[0murl\u001b[0m\u001b[1;33m)\u001b[0m\u001b[1;33m\u001b[0m\u001b[1;33m\u001b[0m\u001b[0m\n\u001b[0;32m      4\u001b[0m \u001b[0mdata_archivo_original\u001b[0m \u001b[1;33m=\u001b[0m \u001b[0mcA\u001b[0m\u001b[1;33m.\u001b[0m\u001b[0mgetDescripcion\u001b[0m\u001b[1;33m(\u001b[0m\u001b[0murl\u001b[0m\u001b[1;33m)\u001b[0m\u001b[1;33m\u001b[0m\u001b[1;33m\u001b[0m\u001b[0m\n\u001b[0;32m      5\u001b[0m \u001b[0mdata_variable_original\u001b[0m \u001b[1;33m=\u001b[0m \u001b[0mcA\u001b[0m\u001b[1;33m.\u001b[0m\u001b[0mgetDescripcion\u001b[0m\u001b[1;33m(\u001b[0m\u001b[0murl\u001b[0m\u001b[1;33m)\u001b[0m\u001b[1;33m\u001b[0m\u001b[1;33m\u001b[0m\u001b[0m\n",
      "\u001b[1;31mAttributeError\u001b[0m: module 'cargaAutomatica' has no attribute 'getDetalle'"
     ]
    }
   ],
   "source": [
    "data_descripcion_fuentes = cA.getDescripcion(url)\n",
    "data_detalle_fuentes = cA.getDetalle(url)\n",
    "data_geoservicios = cA.getDescripcion(url)\n",
    "data_archivo_original = cA.getDescripcion(url)\n",
    "data_variable_original = cA.getDescripcion(url)"
   ]
  },
  {
   "cell_type": "code",
   "execution_count": null,
   "metadata": {},
   "outputs": [],
   "source": []
  },
  {
   "cell_type": "code",
   "execution_count": null,
   "metadata": {},
   "outputs": [],
   "source": []
  }
 ],
 "metadata": {
  "kernelspec": {
   "display_name": "Python 3",
   "language": "python",
   "name": "python3"
  },
  "language_info": {
   "codemirror_mode": {
    "name": "ipython",
    "version": 3
   },
   "file_extension": ".py",
   "mimetype": "text/x-python",
   "name": "python",
   "nbconvert_exporter": "python",
   "pygments_lexer": "ipython3",
   "version": "3.7.4"
  }
 },
 "nbformat": 4,
 "nbformat_minor": 2
}
