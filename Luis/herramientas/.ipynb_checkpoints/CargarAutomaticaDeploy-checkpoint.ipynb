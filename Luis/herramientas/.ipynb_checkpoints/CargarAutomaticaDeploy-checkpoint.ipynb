{
 "cells": [
  {
   "cell_type": "code",
   "execution_count": 1,
   "metadata": {},
   "outputs": [],
   "source": [
    "import pandas as pd\n",
    "import pyodbc\n",
    "import sqlalchemy\n",
    "import datetime\n",
    "import cargaAutomatica as cA"
   ]
  },
  {
   "cell_type": "code",
   "execution_count": 2,
   "metadata": {},
   "outputs": [],
   "source": [
    "url = \"_TablaCatastroDatos_DI_BsNs.xlsx\""
   ]
  },
  {
   "cell_type": "code",
   "execution_count": 3,
   "metadata": {},
   "outputs": [
    {
     "data": {
      "text/plain": [
       "'\\ndata_descripcion_fuentes = cA.getDescripcion(url)\\ndata_detalle_fuentes = cA.getDetalle(url)\\ndata_geoservicios = cA.getGeoservicio(url)\\ndata_archivo_original = cA.getArchivo(url)\\ndata_variable_original = cA.getVariable(url)\\n'"
      ]
     },
     "execution_count": 3,
     "metadata": {},
     "output_type": "execute_result"
    }
   ],
   "source": [
    "\"\"\"\n",
    "data_descripcion_fuentes = cA.getDescripcion(url)\n",
    "data_detalle_fuentes = cA.getDetalle(url)\n",
    "data_geoservicios = cA.getGeoservicio(url)\n",
    "data_archivo_original = cA.getArchivo(url)\n",
    "data_variable_original = cA.getVariable(url)\n",
    "\"\"\""
   ]
  },
  {
   "cell_type": "code",
   "execution_count": 4,
   "metadata": {},
   "outputs": [],
   "source": [
    "#data = cA.cleanVariable(url)\n",
    "cursor = cA.Cursor()"
   ]
  },
  {
   "cell_type": "code",
   "execution_count": 7,
   "metadata": {},
   "outputs": [
    {
     "data": {
      "text/plain": [
       "'\\ni = 1\\nfor indice_fila, fila in data_fecha.iterrows():\\n    print(str(i))\\n    print(indice_fila)\\n    print(fila)\\n    i = i + 1\\n'"
      ]
     },
     "execution_count": 7,
     "metadata": {},
     "output_type": "execute_result"
    }
   ],
   "source": [
    "variable_original = cA.getDescripcion(url)\n",
    "#variable_original[\"TEMA_id\"] = 1\n",
    "#variable_original[\"SUBTEMAS_id\"] = 1\n",
    "#variable_original[\"ARCHIVO_ORIGINAL_id\"] = 1\n",
    "#variable_original[\"fecha_inicio\"] = \"2020-03-08\"\n",
    "#variable_original[\"fecha_consulta\"] = datetime.datetime(variable_original[\"fecha_consulta\"])\n",
    "#print(datetime.datetime[variable_original[\"fecha_consulta\"][0]])\n",
    "variable_original.head(500)\n",
    "#data_fecha = variable_original.iloc[:,7:8]\n",
    "\n",
    "#data_fecha = data_fecha.rename(columns={\"fecha_final\": \"fecha\"})\n",
    "#data_fecha.tail(9)\n",
    "\"\"\"\n",
    "i = 1\n",
    "for indice_fila, fila in data_fecha.iterrows():\n",
    "    print(str(i))\n",
    "    print(indice_fila)\n",
    "    print(fila)\n",
    "    i = i + 1\n",
    "\"\"\"\n",
    "#data_fecha.to_sql(\"FECHA_TEST\", con=eng, if_exists=\"append\", index=False)"
   ]
  },
  {
   "cell_type": "code",
   "execution_count": 22,
   "metadata": {},
   "outputs": [],
   "source": [
    "variable_original = cA.cleanVariable(url)\n",
    "variable_original[\"TEMA_id\"] = 1\n",
    "variable_original[\"SUBTEMAS_id\"] = 1\n",
    "variable_original[\"ARCHIVO_ORIGINAL_id\"] = 1\n",
    "\n",
    "data_fecha = variable_original.iloc[:,7:8]\n",
    "\n",
    "data_fecha = data_fecha.rename(columns={\"fecha_final\": \"fecha\"})\n",
    "data_fecha.tail(9)\n",
    "\n",
    "data_fecha.to_sql(\"FECHA_TEST\", con=cA.AlchemyConection(), if_exists=\"append\", index=False)"
   ]
  },
  {
   "cell_type": "code",
   "execution_count": null,
   "metadata": {},
   "outputs": [],
   "source": []
  },
  {
   "cell_type": "code",
   "execution_count": null,
   "metadata": {},
   "outputs": [],
   "source": []
  },
  {
   "cell_type": "code",
   "execution_count": null,
   "metadata": {},
   "outputs": [],
   "source": []
  }
 ],
 "metadata": {
  "kernelspec": {
   "display_name": "Python 3",
   "language": "python",
   "name": "python3"
  },
  "language_info": {
   "codemirror_mode": {
    "name": "ipython",
    "version": 3
   },
   "file_extension": ".py",
   "mimetype": "text/x-python",
   "name": "python",
   "nbconvert_exporter": "python",
   "pygments_lexer": "ipython3",
   "version": "3.7.4"
  }
 },
 "nbformat": 4,
 "nbformat_minor": 2
}
