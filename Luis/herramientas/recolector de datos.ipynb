{
 "cells": [
  {
   "cell_type": "code",
   "execution_count": 15,
   "metadata": {},
   "outputs": [],
   "source": [
    "import pandas as pd\n",
    "import os"
   ]
  },
  {
   "cell_type": "code",
   "execution_count": 2,
   "metadata": {},
   "outputs": [
    {
     "data": {
      "text/plain": [
       "3"
      ]
     },
     "execution_count": 2,
     "metadata": {},
     "output_type": "execute_result"
    }
   ],
   "source": [
    "len(pd.read_html(\"http://www.bienesnacionales.cl/?page_id=34027\"))"
   ]
  },
  {
   "cell_type": "code",
   "execution_count": 19,
   "metadata": {},
   "outputs": [],
   "source": [
    "import os\n"
   ]
  },
  {
   "cell_type": "code",
   "execution_count": 28,
   "metadata": {},
   "outputs": [],
   "source": [
    "def guardarTablaHtml(url, nombre):\n",
    "    import pandas as pd\n",
    "    import os\n",
    "    lista_csv = []\n",
    "    try:\n",
    "      os.mkdir(nombre)\n",
    "    except:\n",
    "      print(\"Ya existe la carpeta\")\n",
    "    \n",
    "    for i in range(0,len(pd.read_html(url))):\n",
    "        lista_csv.append(pd.read_html(url)[i])\n",
    "        temp_csv = pd.read_html(url)[i]\n",
    "        temp_nombre = nombre + str(i)\n",
    "        temp_csv.to_excel(nombre + \"/\" + temp_nombre + \".xls\")\n",
    "        temp_csv.to_csv(nombre + \"/\" + temp_nombre + \".csv\")\n",
    "        print(\"Hola\")\n",
    "    "
   ]
  },
  {
   "cell_type": "code",
   "execution_count": 29,
   "metadata": {
    "scrolled": true
   },
   "outputs": [
    {
     "name": "stdout",
     "output_type": "stream",
     "text": [
      "Ya existe la carpeta\n",
      "Hola\n",
      "Hola\n",
      "Hola\n"
     ]
    }
   ],
   "source": [
    "guardarTablaHtml(\"http://www.bienesnacionales.cl/?page_id=34027\", \"bienesnacionales\")"
   ]
  },
  {
   "cell_type": "code",
   "execution_count": 30,
   "metadata": {},
   "outputs": [
    {
     "data": {
      "text/plain": [
       "[                0         1          2                 3              4\n",
       " 0          Región  Femenino  Masculino  Persona Jurídica  Total general\n",
       " 1           Arica         0          1                 0              1\n",
       " 2        Tarapacá        10         12                 0             22\n",
       " 3     Antofagasta        29         15                 0             44\n",
       " 4         Atacama        37         34                 2             73\n",
       " 5        Coquimbo       266        201                13            480\n",
       " 6      Valparaíso       186        115                 1            302\n",
       " 7   Metropolitana        91         64                 2            157\n",
       " 8       O'Higgins       165        179                 9            353\n",
       " 9           Maule       413        423                13            849\n",
       " 10        Bio-Bío       154        159                 4            317\n",
       " 11      Araucanía       190        164                 6            360\n",
       " 12       Los Ríos       130        133                 6            269\n",
       " 13      Los Lagos       276        262                18            556\n",
       " 14          Aysén        34         30                 0             64\n",
       " 15     Magallanes        56         42                 1             99\n",
       " 16  Total general     2.037      1.834                75          3.946,\n",
       "                 0      1       2              3\n",
       " 0          Región  Rural  Urbano  Total general\n",
       " 1           Arica      1       0              1\n",
       " 2        Tarapacá     18       4             22\n",
       " 3     Antofagasta      4      40             44\n",
       " 4         Atacama     27      46             73\n",
       " 5        Coquimbo    412      68            480\n",
       " 6      Valparaíso     26     276            302\n",
       " 7   Metropolitana     62      95            157\n",
       " 8       O'Higgins    251     102            353\n",
       " 9           Maule    731     118            849\n",
       " 10        Bio-Bío    240      77            317\n",
       " 11      Araucanía    320      40            360\n",
       " 12       Los Ríos    180      89            269\n",
       " 13      Los Lagos    370     186            556\n",
       " 14          Aysén     23      41             64\n",
       " 15     Magallanes     41      58             99\n",
       " 16  Total general  2.706   1.240          3.946,\n",
       "                 0         1          2                 3              4\n",
       " 0          Región  Femenino  Masculino  Persona Jurídica  Total general\n",
       " 1           Arica         0          1                 0              1\n",
       " 2        Tarapacá         9          9                 0             18\n",
       " 3     Antofagasta         1          3                 0              4\n",
       " 4         Atacama         9         18                 0             27\n",
       " 5        Coquimbo       222        179                11            412\n",
       " 6      Valparaíso        12         13                 1             26\n",
       " 7   Metropolitana        35         27                 0             62\n",
       " 8       O'Higgins       111        132                 8            251\n",
       " 9           Maule       358        361                12            731\n",
       " 10        Bio-Bío       117        121                 2            240\n",
       " 11      Araucanía       165        149                 6            320\n",
       " 12       Los Ríos        94         81                 5            180\n",
       " 13      Los Lagos       187        171                12            370\n",
       " 14          Aysén        13         10                 0             23\n",
       " 15     Magallanes        21         20                 0             41\n",
       " 16  Total general     1.354      1.295                57          2.706]"
      ]
     },
     "execution_count": 30,
     "metadata": {},
     "output_type": "execute_result"
    }
   ],
   "source": [
    "pd.read_html(\"http://www.bienesnacionales.cl/?page_id=34027\")"
   ]
  },
  {
   "cell_type": "code",
   "execution_count": null,
   "metadata": {},
   "outputs": [],
   "source": []
  }
 ],
 "metadata": {
  "kernelspec": {
   "display_name": "Python 3",
   "language": "python",
   "name": "python3"
  },
  "language_info": {
   "codemirror_mode": {
    "name": "ipython",
    "version": 3
   },
   "file_extension": ".py",
   "mimetype": "text/x-python",
   "name": "python",
   "nbconvert_exporter": "python",
   "pygments_lexer": "ipython3",
   "version": "3.7.4"
  }
 },
 "nbformat": 4,
 "nbformat_minor": 2
}
